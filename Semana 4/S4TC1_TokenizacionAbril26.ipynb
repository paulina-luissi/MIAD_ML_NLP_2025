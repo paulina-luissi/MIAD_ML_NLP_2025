{
  "cells": [
    {
      "cell_type": "markdown",
      "metadata": {
        "id": "qwQ6BQmeNgmj"
      },
      "source": [
        "![image info](https://raw.githubusercontent.com/albahnsen/MIAD_ML_and_NLP/main/images/banner_1.png)"
      ]
    },
    {
      "cell_type": "markdown",
      "metadata": {
        "id": "hHuP1uHyNgmr"
      },
      "source": [
        "# Taller: Tokenización de textos  \n",
        "\n",
        "En este taller podrán poner en práctica sus conocimientos sobre preprocesamiento de texto (tokenización). El taller está constituido por 5 puntos, en los cuales deberan seguir las intrucciones de cada numeral para su desarrollo."
      ]
    },
    {
      "cell_type": "markdown",
      "metadata": {
        "id": "K5bI65GfNgmu"
      },
      "source": [
        "## Datos detección de toxicidad en comentarios\n",
        "\n",
        "En este taller se usará el conjunto de datos de detección de toxicidad en comentarios de la base de datos de Kaggle. Cada observación es un comentario que tiene como variable objetivo (target) la probabilidad de ser un comentario tóxico. El objetivo es predecir la toxicidad de cada comentario. Para más detalles pueden visitar el siguiente enlace: [datos](https://www.kaggle.com/c/jigsaw-unintended-bias-in-toxicity-classification/data)."
      ]
    },
    {
      "cell_type": "code",
      "execution_count": null,
      "metadata": {
        "id": "3b8-uNjxNgmy"
      },
      "outputs": [],
      "source": [
        "# SUGERIDO: Descomenta la siguiente linea de código si requieres instalar las libreías básicas utilizadas en este notebook\n",
        "# Si requieres incluir más librerías puedes agregarlas al archivo Semana 4\\requirements.txt\n",
        "#!pip install -r requirements_v2.txt"
      ]
    },
    {
      "cell_type": "code",
      "execution_count": null,
      "metadata": {
        "id": "L-7cWvRANgm1"
      },
      "outputs": [],
      "source": [
        "import warnings\n",
        "warnings.filterwarnings('ignore')"
      ]
    },
    {
      "cell_type": "code",
      "execution_count": null,
      "metadata": {
        "id": "5Z1NrixXScYg"
      },
      "outputs": [],
      "source": [
        "#!pip install --force-reinstall --no-cache-dir numpy scipy scikit-learn pandas\n"
      ]
    },
    {
      "cell_type": "code",
      "execution_count": null,
      "metadata": {
        "id": "7z3E53YWNgm2"
      },
      "outputs": [],
      "source": [
        "# Importación librerías\n",
        "import pandas as pd\n",
        "import numpy as np\n",
        "import scipy as sp\n",
        "from sklearn.model_selection import train_test_split, cross_val_score\n",
        "from sklearn.feature_extraction.text import CountVectorizer, TfidfVectorizer\n",
        "from sklearn.ensemble import RandomForestRegressor\n",
        "\n",
        "from sklearn import metrics\n",
        "%matplotlib inline"
      ]
    },
    {
      "cell_type": "code",
      "execution_count": null,
      "metadata": {
        "colab": {
          "base_uri": "https://localhost:8080/",
          "height": 206
        },
        "id": "R1QT8aqGNgm2",
        "outputId": "9601608f-2019-4d52-9636-f91986cfee08"
      },
      "outputs": [
        {
          "data": {
            "text/html": [
              "<div>\n",
              "<style scoped>\n",
              "    .dataframe tbody tr th:only-of-type {\n",
              "        vertical-align: middle;\n",
              "    }\n",
              "\n",
              "    .dataframe tbody tr th {\n",
              "        vertical-align: top;\n",
              "    }\n",
              "\n",
              "    .dataframe thead th {\n",
              "        text-align: right;\n",
              "    }\n",
              "</style>\n",
              "<table border=\"1\" class=\"dataframe\">\n",
              "  <thead>\n",
              "    <tr style=\"text-align: right;\">\n",
              "      <th></th>\n",
              "      <th>id</th>\n",
              "      <th>comment_text</th>\n",
              "      <th>target</th>\n",
              "    </tr>\n",
              "  </thead>\n",
              "  <tbody>\n",
              "    <tr>\n",
              "      <th>0</th>\n",
              "      <td>6101457</td>\n",
              "      <td>What are you talking about? What group do Pete...</td>\n",
              "      <td>0.0</td>\n",
              "    </tr>\n",
              "    <tr>\n",
              "      <th>1</th>\n",
              "      <td>5342103</td>\n",
              "      <td>NO!, Let him, we need a Conservative government.</td>\n",
              "      <td>0.0</td>\n",
              "    </tr>\n",
              "    <tr>\n",
              "      <th>2</th>\n",
              "      <td>743361</td>\n",
              "      <td>Perhaps he took the \"power out of the Cardinal...</td>\n",
              "      <td>0.2</td>\n",
              "    </tr>\n",
              "    <tr>\n",
              "      <th>3</th>\n",
              "      <td>551008</td>\n",
              "      <td>As always, yours is dripping with sarcasm, whi...</td>\n",
              "      <td>0.0</td>\n",
              "    </tr>\n",
              "    <tr>\n",
              "      <th>4</th>\n",
              "      <td>865998</td>\n",
              "      <td>The dirty little secret is that the price rang...</td>\n",
              "      <td>0.3</td>\n",
              "    </tr>\n",
              "  </tbody>\n",
              "</table>\n",
              "</div>"
            ],
            "text/plain": [
              "        id                                       comment_text  target\n",
              "0  6101457  What are you talking about? What group do Pete...     0.0\n",
              "1  5342103   NO!, Let him, we need a Conservative government.     0.0\n",
              "2   743361  Perhaps he took the \"power out of the Cardinal...     0.2\n",
              "3   551008  As always, yours is dripping with sarcasm, whi...     0.0\n",
              "4   865998  The dirty little secret is that the price rang...     0.3"
            ]
          },
          "execution_count": 4,
          "metadata": {},
          "output_type": "execute_result"
        }
      ],
      "source": [
        "# Carga de datos de archivos .csv\n",
        "df = pd.read_csv('https://raw.githubusercontent.com/davidzarruk/MIAD_ML_NLP_2025/main/datasets/Toxicity.zip')\n",
        "df = df[['id','comment_text', 'target']]\n",
        "df.head()"
      ]
    },
    {
      "cell_type": "code",
      "execution_count": null,
      "metadata": {
        "colab": {
          "base_uri": "https://localhost:8080/"
        },
        "id": "Me7Fh8tKNgm8",
        "outputId": "fca08a04-0df8-43fc-d736-c8367a78b2c8"
      },
      "outputs": [
        {
          "data": {
            "text/plain": [
              "(541462, 3)"
            ]
          },
          "execution_count": 6,
          "metadata": {},
          "output_type": "execute_result"
        }
      ],
      "source": [
        "df.shape"
      ]
    },
    {
      "cell_type": "code",
      "execution_count": null,
      "metadata": {
        "colab": {
          "base_uri": "https://localhost:8080/",
          "height": 448
        },
        "id": "huatJaIyNgm-",
        "outputId": "03130ca3-d4fa-47f0-ea78-13418abd2ea0"
      },
      "outputs": [
        {
          "data": {
            "text/plain": [
              "<Axes: >"
            ]
          },
          "execution_count": 24,
          "metadata": {},
          "output_type": "execute_result"
        }
      ],
      "source": [
        "# Impresión histograma de variable de interés (y)\n",
        "df.target.hist()"
      ]
    },
    {
      "cell_type": "code",
      "execution_count": null,
      "metadata": {
        "colab": {
          "base_uri": "https://localhost:8080/",
          "height": 335
        },
        "id": "3LwFfiikNgm-",
        "outputId": "158f1ee8-a689-42aa-b9dd-180e2a1ccea8"
      },
      "outputs": [
        {
          "data": {
            "text/plain": [
              "count    541462.000000\n",
              "mean          0.102991\n",
              "std           0.196979\n",
              "min           0.000000\n",
              "25%           0.000000\n",
              "50%           0.000000\n",
              "75%           0.166667\n",
              "max           1.000000\n",
              "Name: target, dtype: float64"
            ]
          },
          "execution_count": 26,
          "metadata": {},
          "output_type": "execute_result"
        }
      ],
      "source": [
        "# Separación de variable de interés (y)\n",
        "y = df.target\n",
        "y.describe()"
      ]
    },
    {
      "cell_type": "code",
      "execution_count": null,
      "metadata": {
        "id": "gFs38RiGNgm_"
      },
      "outputs": [],
      "source": [
        "# Separación de variables predictoras (X), solo se considera el texto de la noticia\n",
        "X = df.comment_text"
      ]
    },
    {
      "cell_type": "code",
      "execution_count": null,
      "metadata": {
        "id": "X77Efee3NgnA"
      },
      "outputs": [],
      "source": [
        "# Separación de datos en set de entrenamiento y test\n",
        "X_train, X_test, y_train, y_test = train_test_split(X, y, test_size=0.33, random_state=42)"
      ]
    },
    {
      "cell_type": "markdown",
      "metadata": {
        "id": "tn83DzcENgnA"
      },
      "source": [
        "## Punto 1 - Tokenización con CountVectorizer\n",
        "\n",
        "En la celda 1 creen y entrenen el modelo de regresión de su preferencia, para que prediga la probabilidad de que un comentario sea tóxico, usando los set de entrenamiento y test definidos anteriormente. Usen la función **CountVectorizer** para preprocesar los comentarios y presenten el desempeño del modelo con la métrica del MSE.\n",
        "\n",
        "Recuerden que el preprocesamiento que se haga sobre los datos de entrenamiento  (*.fit_transform()*) deben ser aplicado al set de test (*.transform()*)."
      ]
    },
    {
      "cell_type": "code",
      "execution_count": null,
      "metadata": {
        "id": "6Kw9u9AwNgnB"
      },
      "outputs": [],
      "source": [
        "# Preprocesamiento de texto con Count vectorizer\n",
        "vectorizer = CountVectorizer()\n",
        "X_train_vec = vectorizer.fit_transform(X_train)\n",
        "X_test_vec = vectorizer.transform(X_test)\n"
      ]
    },
    {
      "cell_type": "code",
      "execution_count": null,
      "metadata": {
        "colab": {
          "base_uri": "https://localhost:8080/"
        },
        "id": "RVjYIK3-NgnC",
        "outputId": "b97cf65e-69ce-4080-dd45-56088921d502"
      },
      "outputs": [
        {
          "data": {
            "text/plain": [
              "(362779, 141176)"
            ]
          },
          "execution_count": 35,
          "metadata": {},
          "output_type": "execute_result"
        }
      ],
      "source": [
        "X_train_vec.shape"
      ]
    },
    {
      "cell_type": "code",
      "execution_count": null,
      "metadata": {
        "colab": {
          "base_uri": "https://localhost:8080/"
        },
        "id": "giN2-3SZNgnC",
        "outputId": "1f0a0eb6-ab15-4873-ca83-7c62a33f40e4"
      },
      "outputs": [
        {
          "data": {
            "text/plain": [
              "(178683, 141176)"
            ]
          },
          "execution_count": 37,
          "metadata": {},
          "output_type": "execute_result"
        }
      ],
      "source": [
        "X_test_vec.shape"
      ]
    },
    {
      "cell_type": "markdown",
      "metadata": {
        "id": "yvL3brkpNROC"
      },
      "source": [
        "#### 1a SGDRegressor:\n",
        "\n",
        "Se utiliza este modelo lineal por la dificultad de procesamiento de los datos dada la gran cantidad de obsvervaciones y gran dimensionalidad resultante al aplicar count vectorizer."
      ]
    },
    {
      "cell_type": "code",
      "execution_count": null,
      "metadata": {
        "id": "cOJ9MsOWXCKA"
      },
      "outputs": [],
      "source": [
        "from sklearn.linear_model import SGDRegressor\n",
        "\n",
        "modelo_sgd = SGDRegressor(random_state=42)\n",
        "modelo_sgd.fit(X_train_vec, y_train)\n",
        "y_pred_sgd = modelo_sgd.predict(X_test_vec)"
      ]
    },
    {
      "cell_type": "code",
      "execution_count": null,
      "metadata": {
        "colab": {
          "base_uri": "https://localhost:8080/"
        },
        "id": "U7ODpEkIXFbi",
        "outputId": "e74a7d82-eb1f-462d-e7e8-286a8e969fbc"
      },
      "outputs": [
        {
          "name": "stdout",
          "output_type": "stream",
          "text": [
            "MSE regresión sgd: 0.0238\n",
            "RMSE regresión sgd: 0.1542\n",
            "MAE regresión sgd: 0.1067\n"
          ]
        }
      ],
      "source": [
        "from sklearn.metrics import mean_squared_error, mean_absolute_error\n",
        "\n",
        "#Calcular el error cuadrático medio (MSE)\n",
        "mse_sgd = mean_squared_error(y_test, y_pred_sgd)\n",
        "rmse_sgd = np.sqrt(mse_sgd)\n",
        "mae_sgd = mean_absolute_error(y_test, y_pred_sgd)\n",
        "\n",
        "print(f\"MSE regresión sgd: {mse_sgd:.4f}\")\n",
        "print(f\"RMSE regresión sgd: {rmse_sgd:.4f}\")\n",
        "print(f\"MAE regresión sgd: {mae_sgd:.4f}\")"
      ]
    },
    {
      "cell_type": "code",
      "execution_count": null,
      "metadata": {
        "colab": {
          "base_uri": "https://localhost:8080/"
        },
        "id": "bioJIb5hNgnD",
        "outputId": "80c3a2e8-132b-4d35-86aa-6962071be495"
      },
      "outputs": [
        {
          "data": {
            "text/plain": [
              "[('hanjob', 58305),\n",
              " ('2920', 2926),\n",
              " ('passcode', 93979),\n",
              " ('exclave', 46971),\n",
              " ('gergiev', 54175)]"
            ]
          },
          "execution_count": 44,
          "metadata": {},
          "output_type": "execute_result"
        }
      ],
      "source": [
        "# Visualización de los primeros 5 valores del diccionario de palabras\n",
        "# cada key es una palabra y cada valor es la posición en que dicha palabra se encuentra en la matrix\n",
        "\n",
        "list(vectorizer.vocabulary_.items())[-5:]\n",
        "\n",
        "#list(X_train_vec.vocabulary_.items())[0:5]"
      ]
    },
    {
      "cell_type": "code",
      "execution_count": null,
      "metadata": {
        "colab": {
          "base_uri": "https://localhost:8080/"
        },
        "id": "lh-GFwjO02M2",
        "outputId": "29e16067-c7ef-4dec-c7cb-e70d0971f89a"
      },
      "outputs": [
        {
          "data": {
            "text/plain": [
              "141176"
            ]
          },
          "execution_count": 46,
          "metadata": {},
          "output_type": "execute_result"
        }
      ],
      "source": [
        "len(vectorizer.vocabulary_)\n"
      ]
    },
    {
      "cell_type": "code",
      "execution_count": null,
      "metadata": {
        "colab": {
          "base_uri": "https://localhost:8080/"
        },
        "id": "zMuVKTNCNgnD",
        "outputId": "3804e87b-0b05-478d-88d2-9705697ca8c0"
      },
      "outputs": [
        {
          "name": "stdout",
          "output_type": "stream",
          "text": [
            "['𝗕𝗲' '𝗙𝗮𝘁𝗵𝗲𝗿' '𝗜𝗳' '𝗦𝗼' '𝗧𝗿𝘂𝗹𝘆' '𝗮𝗻𝗱' '𝗮𝗻𝗻𝗼𝘂𝗻𝗰𝗲' '𝗮𝘀' '𝗯𝗲' '𝗯𝗶𝗹𝗹𝗶𝗼𝗻' '𝗯𝘆'\n",
            " '𝗰𝗮𝗿𝗲𝗳𝘂𝗹' '𝗱𝗼' '𝗱𝗼𝗹𝗹𝗮𝗿𝘀' '𝗳𝗿𝗼𝗺' '𝗳𝗿𝗼𝗻𝘁' '𝗳𝘂𝗹𝗹' '𝗴𝗞𝗭𝗘𝗳𝗿𝗪𝟱𝗺𝟳𝗤' '𝗴𝗶𝘃𝗲'\n",
            " '𝗵𝗮𝘃𝗲' '𝗵𝗲𝗮𝘃𝗲𝗻' '𝗵𝗼𝗻𝗼𝗿𝗲𝗱' '𝗵𝘁𝘁𝗽𝘀' '𝗵𝘆𝗽𝗼𝗰𝗿𝗶𝘁𝗲𝘀' '𝗶𝗻' '𝗶𝘁' '𝗻𝗲𝗲𝗱𝘆' '𝗻𝗼'\n",
            " '𝗻𝗼𝘁' '𝗼𝗳' '𝗼𝗻' '𝗼𝘁𝗵𝗲𝗿𝘀' '𝗽𝗿𝗮𝗰𝘁𝗶𝗰𝗲' '𝗿𝗲𝗰𝗲𝗶𝘃𝗲𝗱' '𝗿𝗲𝘄𝗮𝗿𝗱' '𝗿𝗶𝗴𝗵𝘁𝗲𝗼𝘂𝘀𝗻𝗲𝘀𝘀'\n",
            " '𝘀𝗲𝗲𝗻' '𝘀𝘁𝗿𝗲𝗲𝘁𝘀' '𝘀𝘆𝗻𝗮𝗴𝗼𝗴𝘂𝗲𝘀' '𝘁𝗲𝗹𝗹' '𝘁𝗵𝗲' '𝘁𝗵𝗲𝗶𝗿' '𝘁𝗵𝗲𝗺' '𝘁𝗵𝗲𝘆' '𝘁𝗼'\n",
            " '𝘁𝗿𝘂𝗺𝗽𝗲𝘁𝘀' '𝘄𝗵𝗲𝗻' '𝘄𝗶𝗹𝗹' '𝘄𝗶𝘁𝗵' '𝘆𝗼𝘂']\n"
          ]
        }
      ],
      "source": [
        "# Visualización de 50 términos en el diccionario de palabras\n",
        "print(vectorizer.get_feature_names_out()[-150:-100])"
      ]
    },
    {
      "cell_type": "code",
      "execution_count": null,
      "metadata": {
        "id": "VTNgYah8UCIj"
      },
      "outputs": [],
      "source": [
        "# Preprocesamiento de texto con Count vectorizer\n",
        "vectorizer_max = CountVectorizer(max_features=50000)\n",
        "X_train_vec_max = vectorizer_max.fit_transform(X_train)\n",
        "X_test_vec_max = vectorizer_max.transform(X_test)\n"
      ]
    },
    {
      "cell_type": "markdown",
      "metadata": {
        "id": "aggU64PLNvn-"
      },
      "source": [
        "### 1b Modelo basado en árboles: GradientBoostingRegressor\n",
        "\n",
        "Probando con un algoritmo más eficiente con data set más grandes"
      ]
    },
    {
      "cell_type": "code",
      "execution_count": null,
      "metadata": {
        "id": "QmOfsgxQRZaT"
      },
      "outputs": [],
      "source": [
        "# generación de una muesta de los datos para entrenar un modelo de árboles\n",
        "\n",
        "X_sample, _, y_sample, _ = train_test_split(X_train_vec_max, y_train, train_size=15000, random_state=42)\n",
        "\n"
      ]
    },
    {
      "cell_type": "code",
      "execution_count": null,
      "metadata": {
        "id": "vJNhTg-SPFu9"
      },
      "outputs": [],
      "source": [
        "from sklearn.ensemble import GradientBoostingRegressor\n",
        "model_gbr = GradientBoostingRegressor(max_leaf_nodes=31)\n",
        "\n",
        "\n",
        "# Entrenamos el modelo con el muestreo\n",
        "\n",
        "model_gbr.fit(X_sample, y_sample)\n",
        "\n",
        "#predicción con X test\n",
        "\n",
        "y_pred_gbr = model_gbr.predict(X_test_vec_max)"
      ]
    },
    {
      "cell_type": "code",
      "execution_count": null,
      "metadata": {
        "colab": {
          "base_uri": "https://localhost:8080/"
        },
        "id": "kUnT08y9PypG",
        "outputId": "e91b99ad-2d68-45cc-a650-62e0224ead09"
      },
      "outputs": [
        {
          "name": "stdout",
          "output_type": "stream",
          "text": [
            "MSE GradientBoostingRegressor: 0.0275\n",
            "RMSE GradientBoostingRegressor: 0.1657\n",
            "MAE GradientBoostingRegressor: 0.1215\n"
          ]
        }
      ],
      "source": [
        "#Calcular el error cuadrático medio (MSE)\n",
        "\n",
        "from sklearn.metrics import mean_squared_error, mean_absolute_error\n",
        "\n",
        "mse_gbr = mean_squared_error(y_test, y_pred_gbr)\n",
        "rmse_gbr = np.sqrt(mse_gbr)\n",
        "mae_gbr = mean_absolute_error(y_test, y_pred_gbr)\n",
        "\n",
        "print(f\"MSE GradientBoostingRegressor: {mse_gbr:.4f}\")\n",
        "print(f\"RMSE GradientBoostingRegressor: {rmse_gbr:.4f}\")\n",
        "print(f\"MAE GradientBoostingRegressor: {mae_gbr:.4f}\")"
      ]
    },
    {
      "cell_type": "markdown",
      "metadata": {
        "id": "G-BrwZHBxR3E"
      },
      "source": [
        "### 1c GradientBoostingRegressor con TruncatedSVD"
      ]
    },
    {
      "cell_type": "code",
      "execution_count": null,
      "metadata": {
        "id": "6b1Wz0lP3yLB"
      },
      "outputs": [],
      "source": [
        "# Paso 1: Vectorización\n",
        "vectorizer_count = CountVectorizer(ngram_range=(1,1))\n",
        "X_train_vec_svd = vectorizer_count.fit_transform(X_train)\n",
        "X_test_vec_svd = vectorizer_count.transform(X_test)\n"
      ]
    },
    {
      "cell_type": "code",
      "execution_count": null,
      "metadata": {
        "id": "JMOGDVey3ya2"
      },
      "outputs": [],
      "source": [
        "from sklearn.decomposition import TruncatedSVD\n",
        "\n",
        "# Paso 2: Reducción de dimensionalidad\n",
        "svd = TruncatedSVD(n_components=100, random_state=42)\n",
        "X_train_svd = svd.fit_transform(X_train_vec_svd)\n",
        "X_test_svd = svd.transform(X_test_vec_svd)\n"
      ]
    },
    {
      "cell_type": "code",
      "execution_count": null,
      "metadata": {
        "colab": {
          "base_uri": "https://localhost:8080/"
        },
        "id": "X7YxIuPfxQwX",
        "outputId": "5a22d753-026b-4813-a9e5-e8f9a5df8e4d"
      },
      "outputs": [
        {
          "name": "stdout",
          "output_type": "stream",
          "text": [
            "MSE GBR con Count + SVD: 0.0373\n",
            "RMSE GBR con Count + SVD: 0.1931\n",
            "MAE GBR con Count + SVD: 0.1390\n"
          ]
        }
      ],
      "source": [
        "# Paso 3: Modelo\n",
        "from sklearn.ensemble import GradientBoostingRegressor\n",
        "\n",
        "modelo_gbr_svd = GradientBoostingRegressor(random_state=42)\n",
        "modelo_gbr_svd.fit(X_train_svd, y_train)\n",
        "y_pred_gbr_svd = modelo_gbr_svd.predict(X_test_svd)\n",
        "\n",
        "# Paso 4: Evaluación\n",
        "mse_gbr_svd = mean_squared_error(y_test, y_pred_gbr_svd)\n",
        "rmse_gbr_svd = np.sqrt(mse_gbr_svd)\n",
        "mae_gbr_svd = mean_absolute_error(y_test, y_pred_gbr_svd)\n",
        "\n",
        "print(f\"MSE GBR con Count + SVD: {mse_gbr_svd:.4f}\")\n",
        "print(f\"RMSE GBR con Count + SVD: {rmse_gbr_svd:.4f}\")\n",
        "print(f\"MAE GBR con Count + SVD: {mae_gbr_svd:.4f}\")"
      ]
    },
    {
      "cell_type": "markdown",
      "metadata": {
        "id": "lKkn3s3SqNxX"
      },
      "source": [
        "### Conclusión punto 1:\n",
        "\n",
        "La variable que intentamos predecir esta muy desbalanceada y la mayor parte de las observaciones se acerca al cero lo que indica que en el contexto de los datos indica una toxicidad baja.\n",
        "\n",
        "Para correr el modelo de regresión intentamos 2 opciones:\n",
        "\n",
        "**1a)** Por limitación de ram tanto en google collab cómo en nuestros equipos locales corrimos primero un modelo de regresión lineal y calculamos el Error cuadrático medio (MSE), Raíz del error cuadrático medio (RMSE) y Error absoluto medio (MAE):\n",
        "\n",
        "MSE regresión sgd: 0.0238  \n",
        "RMSE regresión sgd: 0.1542  \n",
        "MAE regresión sgd: 0.1067  \n",
        "\n",
        "**1b)** También corrimos un modelo basado en árboles limitando los datos de entrenamientos a una muestra de Xtrain y limitando el número de features en count vectorizer  \n",
        "\n",
        "\n",
        "MSE GradientBoostingRegressor: 0.0275  \n",
        "RMSE GradientBoostingRegressor: 0.1657  \n",
        "MAE GradientBoostingRegressor: 0.1215  \n",
        "\n",
        "**1c)** Realizamos un tercer intento utilizando SVD para reducir la dimensionalidad pero los resultados no presentan una majoera:  \n",
        "\n",
        "MSE GBR con Count + SVD: 0.0373  \n",
        "RMSE GBR con Count + SVD: 0.1931  \n",
        "MAE GBR con Count + SVD: 0.1390  \n",
        "\n",
        "EL mejor modelo es el de regresión líneal, seguido por  GBR y por ultimo el GBR con count +SVD. Los resultados indican que el modelo tiene oportunidad de mejora ya que considerando el mae que es la métrica que se encuentra en la misma unidad que la variable respuesta vemos que el error promedio es casi igual el promedio de las toxicidad (0.1023).\n",
        "\n",
        "| Rank | Modelo       |   MSE  |  RMSE  |   MAE  |\n",
        "|------|--------------|--------|--------|--------|\n",
        "| 1    | Regresión sgd| 0.0238 | 0.1542 | 0.1067 |\n",
        "| 2    | GradientBoostingRegressor| 0.0275 | 0.1657 | 0.1215 |\n",
        "| 3    | GBR con Count + SVD| 0.0373 | 0.1931  | 0.1390 |\n"
      ]
    },
    {
      "cell_type": "markdown",
      "metadata": {
        "id": "GEE2SWjfNgnD"
      },
      "source": [
        "## Punto 2 - Tokenización con CountVectorizer y trigramas\n",
        "\n",
        "En la celda 2 creen y entrenen el mismo modelo de regresión del punto anterior (es decir si usaron un RandomForestRegresor usen nuevamente ese regresor), para que prediga la probabilidad de que un comentario sea tóxico, usando los set de entrenamiento y test definidos anteriormente. Usen la función CountVectorizer **considerando trigramas** para preprocesar los comentarios y presenten el desempeño del modelo con la métrica del MSE.\n",
        "\n",
        "Recuerden que el preprocesamiento que se haga sobre los datos de entrenamiento  (*.fit_transform()*) deben ser aplicado al set de test (*.transform()*)."
      ]
    },
    {
      "cell_type": "markdown",
      "metadata": {
        "id": "cIOh-pQdds1u"
      },
      "source": [
        "#### 2a Sin calibrar hiperparámetros:"
      ]
    },
    {
      "cell_type": "code",
      "execution_count": null,
      "metadata": {
        "id": "dlVqbXbxyUlA"
      },
      "outputs": [],
      "source": [
        "# Preprocesamiento de texto con Count vectorizer y trigramas\n",
        "\n",
        "vectorizer_trigrama = CountVectorizer(ngram_range=(3, 3))\n",
        "\n",
        "X_train_vec_trigrama = vectorizer_trigrama.fit_transform(X_train)\n",
        "X_test_vec_trigrama = vectorizer_trigrama.transform(X_test)\n"
      ]
    },
    {
      "cell_type": "code",
      "execution_count": null,
      "metadata": {
        "id": "cGhhfhTuyGIs"
      },
      "outputs": [],
      "source": [
        "# Usando mismo modelo con trigramas\n",
        "from sklearn.linear_model import SGDRegressor\n",
        "\n",
        "modelo_sgd_tri = SGDRegressor(random_state=42)\n",
        "modelo_sgd_tri.fit(X_train_vec_trigrama, y_train)\n",
        "y_pred_sgd_tri = modelo_sgd_tri.predict(X_test_vec_trigrama)"
      ]
    },
    {
      "cell_type": "code",
      "execution_count": null,
      "metadata": {
        "colab": {
          "base_uri": "https://localhost:8080/"
        },
        "id": "V7OwQMYryJrm",
        "outputId": "6219dc5c-d757-40ed-e989-cf53c21443b2"
      },
      "outputs": [
        {
          "name": "stdout",
          "output_type": "stream",
          "text": [
            "MSE regresión con trigrama: 0.0392\n",
            "RMSE regresión con trigrama: 0.1979\n",
            "MAE regresión con trigrama: 0.1381\n"
          ]
        }
      ],
      "source": [
        "from sklearn.metrics import mean_squared_error, mean_absolute_error\n",
        "\n",
        "#Calcular el error cuadrático medio (MSE)\n",
        "mse_sgd_tri = mean_squared_error(y_test, y_pred_sgd_tri)\n",
        "rmse_sgd_tri = np.sqrt(mse_sgd_tri)\n",
        "mae_sgd_tri = mean_absolute_error(y_test, y_pred_sgd_tri)\n",
        "\n",
        "print(f\"MSE regresión con trigrama: {mse_sgd_tri:.4f}\")\n",
        "print(f\"RMSE regresión con trigrama: {rmse_sgd_tri:.4f}\")\n",
        "print(f\"MAE regresión con trigrama: {mae_sgd_tri:.4f}\")"
      ]
    },
    {
      "cell_type": "markdown",
      "metadata": {
        "id": "F8re7ZOwd1DV"
      },
      "source": [
        "#### 2b Con calibración de hiperparámetros:"
      ]
    },
    {
      "cell_type": "code",
      "execution_count": null,
      "metadata": {
        "colab": {
          "base_uri": "https://localhost:8080/"
        },
        "id": "HFhTgXPPd4Zk",
        "outputId": "69e559f3-6848-4d77-a77d-ec8b211293d2"
      },
      "outputs": [
        {
          "name": "stdout",
          "output_type": "stream",
          "text": [
            "Mejores hiperparámetros encontrados:\n",
            "{'alpha': 0.0001, 'max_iter': 1000, 'penalty': 'elasticnet', 'tol': 0.0001}\n"
          ]
        }
      ],
      "source": [
        "#from sklearn.model_http://localhost:8888/notebooks/Documents/MLPNL/TallerToken/S4TC1_TokenizacionAbril23.ipynb?#2b-Con-calibraci%C3%B3n-de-hiperpar%C3%A1metros:selection import GridSearchCV\n",
        "from sklearn.model_selection import GridSearchCV\n",
        "\n",
        "param_grid = {\n",
        "    'alpha': [0.0001, 0.001, 0.01],\n",
        "    'penalty': ['l2', 'l1', 'elasticnet'],\n",
        "    'max_iter': [1000],\n",
        "    'tol': [1e-3, 1e-4]\n",
        "}\n",
        "\n",
        "modelo_sgd_tri_c = SGDRegressor(random_state=42)\n",
        "grid = GridSearchCV(modelo_sgd_tri_c, param_grid, scoring='neg_mean_squared_error', cv=3)\n",
        "grid.fit(X_train_vec_trigrama, y_train)\n",
        "\n",
        "print(\"Mejores hiperparámetros encontrados:\")\n",
        "print(grid.best_params_)"
      ]
    },
    {
      "cell_type": "code",
      "execution_count": null,
      "metadata": {
        "colab": {
          "base_uri": "https://localhost:8080/"
        },
        "id": "Z3YM7NDofrkS",
        "outputId": "374bc244-67f9-451c-c30d-07a5ab425a2e"
      },
      "outputs": [
        {
          "name": "stdout",
          "output_type": "stream",
          "text": [
            "Mejores hiperparámetros encontrados: {'alpha': 0.0001, 'max_iter': 1000, 'penalty': 'elasticnet', 'tol': 0.0001}\n",
            "MSE regresión con trigrama y calibración: 0.0380\n",
            "RMSE regresión con trigrama y calibración: 0.1950\n",
            "MAE regresión con trigrama y calibración: 0.1420\n"
          ]
        }
      ],
      "source": [
        "# El mejor modelo entrenado\n",
        "mejor_modelo = grid.best_estimator_\n",
        "\n",
        "# Predicción\n",
        "y_pred_sgd_tri_mejor = mejor_modelo.predict(X_test_vec_trigrama)\n",
        "\n",
        "# Métricas\n",
        "mse_sgd_tri_mejor = mean_squared_error(y_test, y_pred_sgd_tri_mejor)\n",
        "rmse_sgd_tri_mejor = np.sqrt(mse_sgd_tri_mejor)\n",
        "mae_sgd_tri_mejor = mean_absolute_error(y_test, y_pred_sgd_tri_mejor)\n",
        "\n",
        "print(\"Mejores hiperparámetros encontrados:\", grid.best_params_)\n",
        "print(f\"MSE regresión con trigrama y calibración: {mse_sgd_tri_mejor:.4f}\")\n",
        "print(f\"RMSE regresión con trigrama y calibración: {rmse_sgd_tri_mejor:.4f}\")\n",
        "print(f\"MAE regresión con trigrama y calibración: {mae_sgd_tri_mejor:.4f}\")\n"
      ]
    },
    {
      "cell_type": "markdown",
      "metadata": {
        "id": "-BcrzUWmMwSP"
      },
      "source": [
        "### Conclusión punto 2:\n",
        "\n",
        "Para este punto decidimos seguir usando la regresión linea ya que presentó mejores resultados que el modelo basado en árboles.\n",
        "\n",
        "**2a)** Al utilizar trigramas en CountVectorizer (sin calibración)  los resultados empeoran y el error aumenta de la siguiente manera:  \n",
        "\n",
        "MSE: El error aumenta, de 0.0238 a 0.0392   \n",
        "RMSE: El error aumenta, de 0.1542 a 0.1979  \n",
        "MAE: El error aumenta, de 0.1067 a 0.1381  \n",
        "\n",
        "| Métrica | SinCalibración | ConCalibración | Sube/Baja ||\n",
        "|------|--------------|-|--------|--------|\n",
        "| MSE | 0.0238 | 0.0392 | Sube |  \n",
        "| RMSE | 0.1542 | 0.1979 | Sube |  \n",
        "| MAE | 0.1067 | 0.1381  | Sube |  \n",
        "\n",
        "**2b)** Al utilizar trigramas en CountVectorizer (con calibración) los mejores hiperparámetros encontrados fueron:  \n",
        "\n",
        "'alpha': 0.0001,   \n",
        "'max_iter': 1000,  \n",
        "'penalty': 'elasticnet',  \n",
        "'tol': 0.0001  \n",
        "\n",
        "Sin embargo los resultados son muy similares a los obtenidos en el punto 2a:\n",
        "\n",
        "MSE regresión con trigrama y calibración: 0.0380  \n",
        "RMSE regresión con trigrama y calibración: 0.1950  \n",
        "MAE regresión con trigrama y calibración: 0.1420\n"
      ]
    },
    {
      "cell_type": "markdown",
      "metadata": {
        "id": "ufHoblTRNgnE"
      },
      "source": [
        "## Punto 3 - TfidfVectorizer\n",
        "\n",
        "Investigen sobre la función TfidfVectorizer. En la celda de texto 3, expliquen en qué consiste esta técnica de tokenización (describanla y expliquen su funcionamiento) y cúales son las ventajas o deventajas de su uso al compararlo con la función CountVectorizer."
      ]
    },
    {
      "cell_type": "markdown",
      "metadata": {
        "id": "m1re20I0wnfA"
      },
      "source": [
        "### Conclusión punto 3:\n",
        "La función de **CountVectorizer** es dividir un texto en palabras (tokens) y convertirlo en una matriz donde cada fila representa un documento (texto) y cada columna una palabra del vocabulario obtenido de todo el corpus.\n",
        "El número en cada posición de la matriz indica cuántas veces aparece esa palabra en el texto correspondiente.\n",
        "\n",
        "Por ejemplo, en el punto 1 podemos ver que el vocabulario completo contiene 141,176 palabras/tokens (len(vectorizer.vocabulary_)), lo cual equivale al número de columnas en la matriz (X_train_vec.shape[1]).\n",
        "\n",
        "Una desventaja de este enfoque es que genera una matriz de muy alta dimensionalidad, lo que puede afectar negativamente la eficiencia y el rendimiento de los modelos de machine learning, especialmente cuando hay muchas palabras poco relevantes o redundantes.\n",
        "\n",
        "Por otro lado, **TfidfVectorizer** ofrece una mejora importante al considerar no sólo cuántas veces aparece una palabra en un texto, sino también cuántos documentos del corpus contienen esa palabra.\n",
        "El objetivo es reducir el peso de las palabras muy frecuentes (como \"la\", \"que\", \"en\"), ya que suelen aportar poca información discriminativa.\n",
        "\n",
        "Esto se logra mediante el cálculo del TF-IDF (Term Frequency – Inverse Document Frequency):\n",
        "\n",
        "TF (frecuencia del término): cuántas veces aparece una palabra en el documento.\n",
        "\n",
        "IDF (frecuencia inversa de documento): mide en cuántos documentos aparece esa palabra. Cuanto más frecuente, menor su peso.\n",
        "\n",
        "**Ejemplo:**\n",
        "\n",
        "Supongamos un texto donde:\n",
        "\n",
        "La palabra \"en\" aparece 5 veces en el texto, pero 100 veces en todo el corpus.\n",
        "\n",
        "La palabra \"imaginación\" aparece 2 veces en el texto y solo 5 veces en el corpus.\n",
        "\n",
        "Con CountVectorizer:\n",
        "\n",
        "\"en\" → 5\n",
        "\n",
        "\"imaginación\" → 2\n",
        "\n",
        "Con TfidfVectorizer (simplificando el cálculo):\n",
        "\n",
        "\"en\" → 5/100 = 0.05\n",
        "\n",
        "\"imaginación\" → 2/5 = 0.4\n",
        "\n",
        "Esto muestra que \"imaginación\" tendrá más peso porque es menos común en el corpus y, por lo tanto, más informativa.\n",
        "\n",
        "\n",
        "\n",
        "\n"
      ]
    },
    {
      "cell_type": "markdown",
      "metadata": {
        "id": "z8YLPvUYNgnE"
      },
      "source": [
        "## Punto 4 - Tokenización con TfidfVectorizer\n",
        "\n",
        "En la celda 4 creen y entrenen el mismo modelo de regresión del primer punto, para que prediga la probabilidad de que un comentario sea tóxico, usando los set de entrenamiento y test definidos anteriormente. Procesen los comentarios con la función **TfidfVectorizer** y presenten el desempeño del modelo con la métrica del MSE.\n",
        "\n",
        "Recuerden que el preprocesamiento que se haga sobre los datos de entrenamiento  (*.fit_transform()*) deben ser aplicado al set de test (*.transform()*)."
      ]
    },
    {
      "cell_type": "markdown",
      "metadata": {
        "id": "FMzJVF14puJt"
      },
      "source": [
        "#### 4a Tfid sin Trigramas"
      ]
    },
    {
      "cell_type": "code",
      "execution_count": null,
      "metadata": {
        "colab": {
          "base_uri": "https://localhost:8080/"
        },
        "id": "2L6HJXraNgnE",
        "outputId": "a5dd432b-4dea-42ae-88a2-e9ed50612742"
      },
      "outputs": [
        {
          "name": "stdout",
          "output_type": "stream",
          "text": [
            "MSE regresión con TF-IDF y unigramas: 0.0316\n",
            "RMSE regresión con TF-IDF y unigramas: 0.1779\n",
            "MAE regresión con TF-IDF y unigramas: 0.1266\n"
          ]
        }
      ],
      "source": [
        "# Celda 4\n",
        "from sklearn.feature_extraction.text import TfidfVectorizer\n",
        "\n",
        "# Preprocesamiento de texto con TF-IDF sin trigramas (solo unigramas)\n",
        "vectorizer_tfidf_uni = TfidfVectorizer(ngram_range=(1, 1))\n",
        "\n",
        "X_train_vec_tfidf_uni = vectorizer_tfidf_uni.fit_transform(X_train)\n",
        "X_test_vec_tfidf_uni = vectorizer_tfidf_uni.transform(X_test)\n",
        "\n",
        "# Usando el mismo modelo con TF-IDF y unigramas\n",
        "from sklearn.linear_model import SGDRegressor\n",
        "\n",
        "modelo_sgd_tfidf_uni = SGDRegressor(random_state=42)\n",
        "modelo_sgd_tfidf_uni.fit(X_train_vec_tfidf_uni, y_train)\n",
        "y_pred_sgd_tfidf_uni = modelo_sgd_tfidf_uni.predict(X_test_vec_tfidf_uni)\n",
        "\n",
        "# Evaluación del modelo\n",
        "from sklearn.metrics import mean_squared_error, mean_absolute_error\n",
        "import numpy as np\n",
        "\n",
        "mse_sgd_tfidf_uni = mean_squared_error(y_test, y_pred_sgd_tfidf_uni)\n",
        "rmse_sgd_tfidf_uni = np.sqrt(mse_sgd_tfidf_uni)\n",
        "mae_sgd_tfidf_uni = mean_absolute_error(y_test, y_pred_sgd_tfidf_uni)\n",
        "\n",
        "print(f\"MSE regresión con TF-IDF y unigramas: {mse_sgd_tfidf_uni:.4f}\")\n",
        "print(f\"RMSE regresión con TF-IDF y unigramas: {rmse_sgd_tfidf_uni:.4f}\")\n",
        "print(f\"MAE regresión con TF-IDF y unigramas: {mae_sgd_tfidf_uni:.4f}\")\n"
      ]
    },
    {
      "cell_type": "markdown",
      "metadata": {
        "id": "ntlac1GEpjL9"
      },
      "source": [
        "#### 4b Tfid con Trigramas"
      ]
    },
    {
      "cell_type": "code",
      "execution_count": null,
      "metadata": {
        "colab": {
          "base_uri": "https://localhost:8080/"
        },
        "id": "LByzu2EYpp2K",
        "outputId": "c203aa82-9fd1-4020-a6bd-fb40ca89540c"
      },
      "outputs": [
        {
          "name": "stdout",
          "output_type": "stream",
          "text": [
            "MSE regresión con TF-IDF y trigrama: 0.0389\n",
            "RMSE regresión con TF-IDF y trigrama: 0.1973\n",
            "MAE regresión con TF-IDF y trigrama: 0.1446\n"
          ]
        }
      ],
      "source": [
        "from sklearn.feature_extraction.text import TfidfVectorizer\n",
        "\n",
        "# Preprocesamiento de texto con TF-IDF y trigramas\n",
        "vectorizer_tfidf_trigrama = TfidfVectorizer(ngram_range=(3, 3))\n",
        "\n",
        "X_train_vec_tfidf_tri = vectorizer_tfidf_trigrama.fit_transform(X_train)\n",
        "X_test_vec_tfidf_tri = vectorizer_tfidf_trigrama.transform(X_test)\n",
        "\n",
        "# Usando el mismo modelo con trigramas TF-IDF\n",
        "from sklearn.linear_model import SGDRegressor\n",
        "\n",
        "modelo_sgd_tfidf_tri = SGDRegressor(random_state=42)\n",
        "modelo_sgd_tfidf_tri.fit(X_train_vec_tfidf_tri, y_train)\n",
        "y_pred_sgd_tfidf_tri = modelo_sgd_tfidf_tri.predict(X_test_vec_tfidf_tri)\n",
        "\n",
        "# Evaluación del modelo\n",
        "from sklearn.metrics import mean_squared_error, mean_absolute_error\n",
        "import numpy as np\n",
        "\n",
        "mse_sgd_tfidf_tri = mean_squared_error(y_test, y_pred_sgd_tfidf_tri)\n",
        "rmse_sgd_tfidf_tri = np.sqrt(mse_sgd_tfidf_tri)\n",
        "mae_sgd_tfidf_tri = mean_absolute_error(y_test, y_pred_sgd_tfidf_tri)\n",
        "\n",
        "print(f\"MSE regresión con TF-IDF y trigrama: {mse_sgd_tfidf_tri:.4f}\")\n",
        "print(f\"RMSE regresión con TF-IDF y trigrama: {rmse_sgd_tfidf_tri:.4f}\")\n",
        "print(f\"MAE regresión con TF-IDF y trigrama: {mae_sgd_tfidf_tri:.4f}\")\n"
      ]
    },
    {
      "cell_type": "markdown",
      "metadata": {
        "id": "Gj0zGtkXtseM"
      },
      "source": [
        "#### Conclusión punto 4:\n",
        "\n",
        "Los resultados obtenidos en este punto no presentan una mejora respecto al uso de CountVectorizer sin trigrama, que sigue siendo la mejor opción:\n",
        "\n",
        "MSE regresión con TF-IDF y unigramas: 0.0316  \n",
        "RMSE regresión con TF-IDF y unigramas: 0.1779  \n",
        "MAE regresión con TF-IDF y unigramas: 0.1266  \n",
        "\n",
        "MSE regresión con TF-IDF y trigrama: 0.0389  \n",
        "RMSE regresión con TF-IDF y trigrama: 0.1973  \n",
        "MAE regresión con TF-IDF y trigrama: 0.1446  \n",
        "\n",
        "| Métrica | TF-IDF y unigramas | TF-IDF y trigrama | ||\n",
        "|------|--------------|-|--------|-|\n",
        "| MSE | 0.0316 | 0.0389 | |  \n",
        "| RMSE | 0.1779 | 0.1973 | |  \n",
        "| MAE | 0.1266 | 0.1446  |  |  "
      ]
    },
    {
      "cell_type": "markdown",
      "metadata": {
        "id": "riBLaM9XNgnF"
      },
      "source": [
        "## Punto 5 - Comparación y análisis de resultados\n",
        "\n",
        "En la celda 5 comparen los resultados obtenidos de los diferentes modelos y comenten cómo el preprocesamiento de texto afecta el desempeño."
      ]
    },
    {
      "cell_type": "code",
      "execution_count": null,
      "metadata": {
        "colab": {
          "base_uri": "https://localhost:8080/",
          "height": 143
        },
        "id": "KwBhoWSPNgnF",
        "outputId": "2348a1ca-08ee-41d0-9d8d-04d1548283ac"
      },
      "outputs": [
        {
          "data": {
            "text/html": [
              "<div>\n",
              "<style scoped>\n",
              "    .dataframe tbody tr th:only-of-type {\n",
              "        vertical-align: middle;\n",
              "    }\n",
              "\n",
              "    .dataframe tbody tr th {\n",
              "        vertical-align: top;\n",
              "    }\n",
              "\n",
              "    .dataframe thead th {\n",
              "        text-align: right;\n",
              "    }\n",
              "</style>\n",
              "<table border=\"1\" class=\"dataframe\">\n",
              "  <thead>\n",
              "    <tr style=\"text-align: right;\">\n",
              "      <th></th>\n",
              "      <th>Modelo</th>\n",
              "      <th>RMSE</th>\n",
              "    </tr>\n",
              "  </thead>\n",
              "  <tbody>\n",
              "    <tr>\n",
              "      <th>0</th>\n",
              "      <td>1a - RegLineal + CV</td>\n",
              "      <td>0.154181</td>\n",
              "    </tr>\n",
              "    <tr>\n",
              "      <th>1</th>\n",
              "      <td>4a - RegLineal + TF-IDF (unigramas)</td>\n",
              "      <td>0.177900</td>\n",
              "    </tr>\n",
              "    <tr>\n",
              "      <th>2</th>\n",
              "      <td>2b - RegLineal Calibrada + CV + trigramas</td>\n",
              "      <td>0.195033</td>\n",
              "    </tr>\n",
              "  </tbody>\n",
              "</table>\n",
              "</div>"
            ],
            "text/plain": [
              "                                      Modelo      RMSE\n",
              "0                        1a - RegLineal + CV  0.154181\n",
              "1        4a - RegLineal + TF-IDF (unigramas)  0.177900\n",
              "2  2b - RegLineal Calibrada + CV + trigramas  0.195033"
            ]
          },
          "execution_count": 109,
          "metadata": {},
          "output_type": "execute_result"
        }
      ],
      "source": [
        "# A continuación se comparan los mejores resultados de cada punto:\n",
        "\n",
        "rmse_resultados = {\n",
        "    \"1a - RegLineal + CV\": rmse_sgd,\n",
        "    \"2b - RegLineal Calibrada + CV + trigramas\": rmse_sgd_tri_mejor,\n",
        "    \"4a - RegLineal + TF-IDF (unigramas)\": rmse_sgd_tfidf_uni,\n",
        "}\n",
        "\n",
        "# Convertir a DataFrame\n",
        "resultados_rmse = pd.DataFrame(list(rmse_resultados.items()), columns=[\"Modelo\", \"RMSE\"])\n",
        "\n",
        "# Mostrar la tabla ordenada por RMSE\n",
        "resultados_rmse.sort_values(by=\"RMSE\", ascending=True).reset_index(drop=True)"
      ]
    },
    {
      "cell_type": "code",
      "execution_count": null,
      "metadata": {
        "colab": {
          "base_uri": "https://localhost:8080/",
          "height": 607
        },
        "id": "0q7j2ivFNgnF",
        "outputId": "2e978ef2-b6c4-4175-8289-d39dac9eb438"
      },
      "outputs": [
        {
          "data": {
            "image/png": "[encoded data removed]",
            "text/plain": [
              "<Figure size 640x480 with 1 Axes>"
            ]
          },
          "metadata": {},
          "output_type": "display_data"
        },
        {
          "data": {
            "image/png": "[encoded data removed]",
            "text/plain": [
              "<Figure size 1000x600 with 1 Axes>"
            ]
          },
          "metadata": {},
          "output_type": "display_data"
        }
      ],
      "source": [
        "### Punto 5.1 - Comparación y análisis de resultados\n",
        "\n",
        "import matplotlib.pyplot as plt\n",
        "resultados_rmse_sorted = resultados_rmse.sort_values(by=\"RMSE\", ascending=True)\n",
        "\n",
        "# Crear gráfico de barras horizontales\n",
        "plt.figure(figsize=(10, 6))\n",
        "bars = plt.barh(resultados_rmse_sorted[\"Modelo\"], resultados_rmse_sorted[\"RMSE\"], color=\"mediumseagreen\")\n",
        "plt.xlabel(\"RMSE\")\n",
        "plt.title(\"Comparación de los modelos con mejor RMSE en cada punto\")\n",
        "plt.gca().invert_yaxis()\n",
        "plt.grid(axis='x', linestyle='--', alpha=0.7)\n",
        "\n",
        "# Añadir etiquetas con los valores de RMSE a la derecha de cada barra\n",
        "for bar in bars:\n",
        "    width = bar.get_width()\n",
        "    plt.text(width + 0.01, bar.get_y() + bar.get_height() / 2, f\"{width:.3f}\", va='center')\n",
        "\n",
        "plt.tight_layout()\n",
        "plt.show()"
      ]
    },
    {
      "cell_type": "markdown",
      "metadata": {
        "id": "ydTsgj3-bcB8"
      },
      "source": [
        "### Conclusión punto 5\n",
        "\n",
        "En este trabajo se evaluaron diferentes enfoques para poder predecir la probabilidad de toxicidad en los comentarios. En el punto 1 se intentó correr modelos basados en árboles con algunos ajustes cómo el uso de una muestra de los datos o el uso de SVD para reducir la dimensionalidad ya que sin tomar estas medidas era imposible correr el modelo por limitaciones de memoria ram de nuestros equipos. Sin embargo como el modelo de regresión lineal fue el que dió mejor resultado continuamos utilizando este modelo para correr los siguientes puntos. Se compararon los resultados usando como métrica principal el Error Cuadrático Medio (RMSE).\n",
        "\n",
        "A continuación, se resumen los resultados obtenidos en cada punto:\n",
        "\n",
        "**Punto 1: CountVectorizer**  \n",
        "En este punto se prueban distintos modelos y técnicas:\n",
        "\n",
        "RMSE regresión sgd: 0.1542  \n",
        "RMSE GradientBoostingRegressor (sample y max features): 0.1657  \n",
        "RMSE GBR con Count + SVD: 0.1931  \n",
        "\n",
        "\n",
        "**Punto 2: CountVectorizer + Trigramas**\n",
        "A partir de qui seguimos co el modelo de regresión liean y se prueba el modelo sin calibrar y con calibración:\n",
        "\n",
        "RMSE regresión con trigrama: 0.1979  \n",
        "RMSE regresión con trigrama y calibración: 0.1950  \n",
        "\n",
        "**Punto 3: explicación TF-IDF**\n",
        "\n",
        "Aqui se explican las ventajas potenciales del uso de TF-IDF al reducir el peso de las palabras muy frecuentes en todo el corpus del texto.\n",
        "\n",
        "**Punto 4: Implementación TF-IDF**\n",
        "En este punto seguimos probando el mismo modelo pero ahora utilizando TF-IDFtanto con trigramas cómo sin trigramas:\n",
        "\n",
        "RMSE regresión con TF-IDF y unigramas: 0.1779  \n",
        "RMSE regresión con TF-IDF y trigrama: 0.1973  \n",
        "\n",
        "Los tres mejores resultados son los siguientes:\n",
        "\n",
        "| Modelo  | RMSE | | ||\n",
        "|------|--------------|-|-|-|\n",
        "|CountVectorizer regresión sgd | 0.1542 |  | |  \n",
        "| TF-IDF y unigramas | 0.1779 | | |  \n",
        "| CountVectorizer + Trigramas Calib | 0.1950 |  |  |  \n",
        "\n",
        "**Resumen general:**\n",
        "\n",
        "A pesar de probar distintas técnicas y opciones el modelo el primer punto fue el que arroja un mejor RMSE y si tomamos el Mean Absolut error para poder interpretar la magnitud del error vemos que el modelo tiene un error promedio absoluto de  0.1067, muy similar al promedio de las\n",
        "toxicidad:0.1023. Esto indica que hay oportunidad de mejora y se deberian seguir probando técnicas más avanzadas para lograr mejoras significativas."
      ]
    },
    {
      "cell_type": "code",
      "execution_count": null,
      "metadata": {
        "id": "fQFgcQLdd_41"
      },
      "outputs": [],
      "source": []
    }
  ],
  "metadata": {
    "accelerator": "TPU",
    "colab": {
      "gpuType": "V28",
      "provenance": [],
      "toc_visible": true
    },
    "kernelspec": {
      "display_name": "Python [conda env:base] *",
      "language": "python",
      "name": "conda-base-py"
    },
    "language_info": {
      "codemirror_mode": {
        "name": "ipython",
        "version": 3
      },
      "file_extension": ".py",
      "mimetype": "text/x-python",
      "name": "python",
      "nbconvert_exporter": "python",
      "pygments_lexer": "ipython3",
      "version": "3.12.7"
    },
    "name": "_merged"
  },
  "nbformat": 4,
  "nbformat_minor": 0
}